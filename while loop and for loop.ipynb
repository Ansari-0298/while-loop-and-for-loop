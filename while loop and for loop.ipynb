{
 "cells": [
  {
   "cell_type": "code",
   "execution_count": 1,
   "id": "7dc0aea2",
   "metadata": {},
   "outputs": [],
   "source": [
    "#while loop"
   ]
  },
  {
   "cell_type": "code",
   "execution_count": 2,
   "id": "a32d3206",
   "metadata": {},
   "outputs": [
    {
     "name": "stdout",
     "output_type": "stream",
     "text": [
      "0\n",
      "1\n",
      "2\n",
      "3\n",
      "4\n",
      "5\n",
      "6\n",
      "7\n",
      "8\n",
      "9\n",
      "10\n"
     ]
    }
   ],
   "source": [
    "a=0\n",
    "while a<=10:\n",
    "    print(a)\n",
    "    a=a+1\n",
    "    "
   ]
  },
  {
   "cell_type": "code",
   "execution_count": 4,
   "id": "f0640104",
   "metadata": {},
   "outputs": [
    {
     "name": "stdout",
     "output_type": "stream",
     "text": [
      "2 * 1 = 2\n",
      "2 * 2 = 4\n",
      "2 * 3 = 6\n",
      "2 * 4 = 8\n",
      "2 * 5 = 10\n",
      "2 * 6 = 12\n",
      "2 * 7 = 14\n",
      "2 * 8 = 16\n",
      "2 * 9 = 18\n",
      "2 * 10 = 20\n"
     ]
    }
   ],
   "source": [
    "a=1\n",
    "b=2\n",
    "while a<=10:\n",
    "    print(b,'*',a,'=',b*a)\n",
    "    a=a+1"
   ]
  },
  {
   "cell_type": "code",
   "execution_count": 5,
   "id": "88e19a9c",
   "metadata": {},
   "outputs": [
    {
     "name": "stdout",
     "output_type": "stream",
     "text": [
      "12 * 1 = 12\n",
      "12 * 2 = 24\n",
      "12 * 3 = 36\n",
      "12 * 4 = 48\n",
      "12 * 5 = 60\n",
      "12 * 6 = 72\n",
      "12 * 7 = 84\n",
      "12 * 8 = 96\n",
      "12 * 9 = 108\n",
      "12 * 10 = 120\n"
     ]
    }
   ],
   "source": [
    "a=1\n",
    "b=12\n",
    "while a<=10:\n",
    "    print(b,'*',a,'=',b*a)\n",
    "    a=a+1"
   ]
  },
  {
   "cell_type": "code",
   "execution_count": 8,
   "id": "6c34afc4",
   "metadata": {},
   "outputs": [
    {
     "name": "stdout",
     "output_type": "stream",
     "text": [
      "23 * 1 = 23\n",
      "23 * 2 = 46\n",
      "23 * 3 = 69\n",
      "23 * 4 = 92\n",
      "23 * 5 = 115\n",
      "23 * 6 = 138\n",
      "23 * 7 = 161\n",
      "23 * 8 = 184\n",
      "23 * 9 = 207\n",
      "23 * 10 = 230\n",
      "23 * 11 = 253\n",
      "23 * 12 = 276\n",
      "23 * 13 = 299\n",
      "23 * 14 = 322\n",
      "23 * 15 = 345\n",
      "23 * 16 = 368\n",
      "23 * 17 = 391\n",
      "23 * 18 = 414\n",
      "23 * 19 = 437\n",
      "23 * 20 = 460\n"
     ]
    }
   ],
   "source": [
    "a=1\n",
    "b=23\n",
    "while a<=20:\n",
    "    print(b,'*',a,'=',b*a)\n",
    "    a=a+1"
   ]
  },
  {
   "cell_type": "code",
   "execution_count": 9,
   "id": "4de12438",
   "metadata": {},
   "outputs": [],
   "source": [
    "#while with list"
   ]
  },
  {
   "cell_type": "code",
   "execution_count": 12,
   "id": "65250c28",
   "metadata": {},
   "outputs": [],
   "source": [
    "l1=(1,2,3,4,5)"
   ]
  },
  {
   "cell_type": "code",
   "execution_count": null,
   "id": "e5c574ad",
   "metadata": {},
   "outputs": [],
   "source": []
  },
  {
   "cell_type": "code",
   "execution_count": 2,
   "id": "712e474b",
   "metadata": {},
   "outputs": [
    {
     "ename": "TypeError",
     "evalue": "object of type 'int' has no len()",
     "output_type": "error",
     "traceback": [
      "\u001b[1;31m---------------------------------------------------------------------------\u001b[0m",
      "\u001b[1;31mTypeError\u001b[0m                                 Traceback (most recent call last)",
      "\u001b[1;32m<ipython-input-2-1322b8bfefa5>\u001b[0m in \u001b[0;36m<module>\u001b[1;34m\u001b[0m\n\u001b[0;32m      1\u001b[0m \u001b[0ml1\u001b[0m\u001b[1;33m=\u001b[0m\u001b[1;36m2\u001b[0m\u001b[1;33m\u001b[0m\u001b[1;33m\u001b[0m\u001b[0m\n\u001b[1;32m----> 2\u001b[1;33m \u001b[1;32mwhile\u001b[0m \u001b[0mi\u001b[0m\u001b[1;33m<\u001b[0m\u001b[0mlen\u001b[0m\u001b[1;33m(\u001b[0m\u001b[0ml1\u001b[0m\u001b[1;33m)\u001b[0m\u001b[1;33m:\u001b[0m\u001b[1;33m\u001b[0m\u001b[1;33m\u001b[0m\u001b[0m\n\u001b[0m\u001b[0;32m      3\u001b[0m     \u001b[0ml1\u001b[0m\u001b[1;33m[\u001b[0m\u001b[0mi\u001b[0m\u001b[1;33m]\u001b[0m\u001b[1;33m=\u001b[0m\u001b[0ml1\u001b[0m\u001b[1;33m[\u001b[0m\u001b[0mi\u001b[0m\u001b[1;33m]\u001b[0m\u001b[1;33m+\u001b[0m\u001b[1;36m100\u001b[0m\u001b[1;33m\u001b[0m\u001b[1;33m\u001b[0m\u001b[0m\n\u001b[0;32m      4\u001b[0m     \u001b[0mi\u001b[0m\u001b[1;33m=\u001b[0m\u001b[0mi\u001b[0m\u001b[1;33m+\u001b[0m\u001b[1;36m1\u001b[0m\u001b[1;33m\u001b[0m\u001b[1;33m\u001b[0m\u001b[0m\n",
      "\u001b[1;31mTypeError\u001b[0m: object of type 'int' has no len()"
     ]
    }
   ],
   "source": [
    "l1=2\n",
    "while i<len(l1):\n",
    "    l1[i]=l1[i]+100\n",
    "    i=i+1"
   ]
  },
  {
   "cell_type": "code",
   "execution_count": 17,
   "id": "4e3bb2c4",
   "metadata": {},
   "outputs": [
    {
     "data": {
      "text/plain": [
       "(1, 2, 3, 4, 5)"
      ]
     },
     "execution_count": 17,
     "metadata": {},
     "output_type": "execute_result"
    }
   ],
   "source": [
    "l1"
   ]
  },
  {
   "cell_type": "code",
   "execution_count": 21,
   "id": "4abd64a1",
   "metadata": {},
   "outputs": [],
   "source": [
    "#for loop is used to iterate over a sequence (tuple,list,dictionary...)"
   ]
  },
  {
   "cell_type": "code",
   "execution_count": 22,
   "id": "44302953",
   "metadata": {},
   "outputs": [
    {
     "name": "stdout",
     "output_type": "stream",
     "text": [
      "mango\n",
      "apple\n",
      "banana\n",
      "orange\n"
     ]
    }
   ],
   "source": [
    "l1=(\"mango\",\"apple\",\"banana\",\"orange\")\n",
    "for i in l1:\n",
    "    print(i)"
   ]
  },
  {
   "cell_type": "code",
   "execution_count": 23,
   "id": "8122e74f",
   "metadata": {},
   "outputs": [
    {
     "name": "stdout",
     "output_type": "stream",
     "text": [
      "tom hardy\n",
      "100\n",
      "True\n",
      "(3+4j)\n"
     ]
    }
   ],
   "source": [
    "l1=(\"tom hardy\",100,True,3+4j)\n",
    "for i in l1:\n",
    "    print(i)"
   ]
  },
  {
   "cell_type": "code",
   "execution_count": 26,
   "id": "0e4543ea",
   "metadata": {},
   "outputs": [
    {
     "name": "stdout",
     "output_type": "stream",
     "text": [
      "orange slippers\n",
      "orange mirror\n",
      "orange shoes\n",
      "orange tea\n",
      "black slippers\n",
      "black mirror\n",
      "black shoes\n",
      "black tea\n",
      "purple slippers\n",
      "purple mirror\n",
      "purple shoes\n",
      "purple tea\n",
      "brown slippers\n",
      "brown mirror\n",
      "brown shoes\n",
      "brown tea\n"
     ]
    }
   ],
   "source": [
    "l1=(\"orange\",\"black\",\"purple\",\"brown\")\n",
    "l2=(\"slippers\",\"mirror\",\"shoes\",\"tea\")\n",
    "for i in l1:\n",
    "    for j in l2:\n",
    "        print(i,j)    "
   ]
  },
  {
   "cell_type": "code",
   "execution_count": 1,
   "id": "bc8b599d",
   "metadata": {},
   "outputs": [
    {
     "name": "stdout",
     "output_type": "stream",
     "text": [
      "8945621 * 1 = 8945621\n",
      "8945621 * 2 = 17891242\n",
      "8945621 * 3 = 26836863\n",
      "8945621 * 4 = 35782484\n",
      "8945621 * 5 = 44728105\n",
      "8945621 * 6 = 53673726\n",
      "8945621 * 7 = 62619347\n",
      "8945621 * 8 = 71564968\n",
      "8945621 * 9 = 80510589\n",
      "8945621 * 10 = 89456210\n"
     ]
    }
   ],
   "source": [
    "a=1\n",
    "b=8945621\n",
    "while a<=10:\n",
    "    print(b,\"*\",a,\"=\",b*a)\n",
    "    a=a+1"
   ]
  },
  {
   "cell_type": "code",
   "execution_count": 4,
   "id": "cddfb8ea",
   "metadata": {},
   "outputs": [
    {
     "name": "stdout",
     "output_type": "stream",
     "text": [
      "black mango\n",
      "black apple\n",
      "black orange\n",
      "black banana\n",
      "brown mango\n",
      "brown apple\n",
      "brown orange\n",
      "brown banana\n",
      "purple mango\n",
      "purple apple\n",
      "purple orange\n",
      "purple banana\n",
      "yellow mango\n",
      "yellow apple\n",
      "yellow orange\n",
      "yellow banana\n"
     ]
    }
   ],
   "source": [
    "l1=(\"mango\",\"apple\",\"orange\",\"banana\")\n",
    "l2=(\"black\",\"brown\",\"purple\",\"yellow\")\n",
    "for i in l2:\n",
    "    for j in l1:\n",
    "        print(i,j)"
   ]
  },
  {
   "cell_type": "code",
   "execution_count": 3,
   "id": "4379dc37",
   "metadata": {},
   "outputs": [
    {
     "name": "stdout",
     "output_type": "stream",
     "text": [
      "1\n",
      "2\n",
      "3\n",
      "4\n",
      "5\n",
      "6\n",
      "7\n",
      "8\n",
      "9\n",
      "10\n"
     ]
    }
   ],
   "source": [
    "a=1\n",
    "while a<=10:\n",
    "    print(a)\n",
    "    a=a+1"
   ]
  },
  {
   "cell_type": "code",
   "execution_count": 4,
   "id": "04b4e2e0",
   "metadata": {},
   "outputs": [
    {
     "name": "stdout",
     "output_type": "stream",
     "text": [
      "47 * 1 = 47\n",
      "47 * 2 = 94\n",
      "47 * 3 = 141\n",
      "47 * 4 = 188\n",
      "47 * 5 = 235\n",
      "47 * 6 = 282\n",
      "47 * 7 = 329\n",
      "47 * 8 = 376\n",
      "47 * 9 = 423\n",
      "47 * 10 = 470\n"
     ]
    }
   ],
   "source": [
    "a=1\n",
    "b=47\n",
    "while a<=10:\n",
    "    print(b,\"*\",a,\"=\",b*a)\n",
    "    a=a+1"
   ]
  },
  {
   "cell_type": "code",
   "execution_count": 5,
   "id": "84b7f453",
   "metadata": {},
   "outputs": [
    {
     "name": "stdout",
     "output_type": "stream",
     "text": [
      "c is the greatest\n"
     ]
    }
   ],
   "source": [
    "a=1\n",
    "b=2\n",
    "c=10\n",
    "if a>b & a>c:\n",
    "    print(\"a is the greatest\")\n",
    "elif (b>a) &(b>c):\n",
    "    print(\"b is the greatest\")\n",
    "else:\n",
    "    print(\"c is the greatest\")"
   ]
  },
  {
   "cell_type": "code",
   "execution_count": 6,
   "id": "4fb84b61",
   "metadata": {},
   "outputs": [],
   "source": [
    "#class with constructor"
   ]
  },
  {
   "cell_type": "code",
   "execution_count": 12,
   "id": "b4fc4a9e",
   "metadata": {},
   "outputs": [],
   "source": [
    "class phone:\n",
    "    def __init__(self,samsung,redmi,iphone,xiaomi,oppo,vivo,realme):\n",
    "        self.samsung=samsung\n",
    "        self.redmi=redmi\n",
    "        self.iphone=iphone\n",
    "        self.xiaom=xiaomi\n",
    "        self.oppo=oppo\n",
    "        self.vivo=vivo\n",
    "        self.realme=realme\n",
    "        \n",
    "    def show_phone_details(self):\n",
    "        print(\"price of samsung\",self.samsung)\n",
    "        print(\"price of redmi\",self.redmi)\n",
    "        print(\"price of iphone\",self.iphone)\n",
    "        print(\"price of xiaomi\",self.xiaomi)\n",
    "        print(\"price of oppo\",self.oppo)\n",
    "        print(\"price of vivo\",self.vivo)\n",
    "        print(\"price of realme\",self.realme)"
   ]
  },
  {
   "cell_type": "code",
   "execution_count": 13,
   "id": "d8c80790",
   "metadata": {},
   "outputs": [],
   "source": [
    "p1=phone(80000,25000,130000,20000,30000,35000,28000)"
   ]
  },
  {
   "cell_type": "code",
   "execution_count": 14,
   "id": "b00a19e6",
   "metadata": {},
   "outputs": [
    {
     "name": "stdout",
     "output_type": "stream",
     "text": [
      "price of samsung 80000\n",
      "price of redmi 25000\n",
      "price of iphone 130000\n"
     ]
    },
    {
     "ename": "AttributeError",
     "evalue": "'phone' object has no attribute 'xiaomi'",
     "output_type": "error",
     "traceback": [
      "\u001b[1;31m---------------------------------------------------------------------------\u001b[0m",
      "\u001b[1;31mAttributeError\u001b[0m                            Traceback (most recent call last)",
      "\u001b[1;32m<ipython-input-14-c8168614b503>\u001b[0m in \u001b[0;36m<module>\u001b[1;34m\u001b[0m\n\u001b[1;32m----> 1\u001b[1;33m \u001b[0mp1\u001b[0m\u001b[1;33m.\u001b[0m\u001b[0mshow_phone_details\u001b[0m\u001b[1;33m(\u001b[0m\u001b[1;33m)\u001b[0m\u001b[1;33m\u001b[0m\u001b[1;33m\u001b[0m\u001b[0m\n\u001b[0m",
      "\u001b[1;32m<ipython-input-12-874b949318be>\u001b[0m in \u001b[0;36mshow_phone_details\u001b[1;34m(self)\u001b[0m\n\u001b[0;32m     13\u001b[0m         \u001b[0mprint\u001b[0m\u001b[1;33m(\u001b[0m\u001b[1;34m\"price of redmi\"\u001b[0m\u001b[1;33m,\u001b[0m\u001b[0mself\u001b[0m\u001b[1;33m.\u001b[0m\u001b[0mredmi\u001b[0m\u001b[1;33m)\u001b[0m\u001b[1;33m\u001b[0m\u001b[1;33m\u001b[0m\u001b[0m\n\u001b[0;32m     14\u001b[0m         \u001b[0mprint\u001b[0m\u001b[1;33m(\u001b[0m\u001b[1;34m\"price of iphone\"\u001b[0m\u001b[1;33m,\u001b[0m\u001b[0mself\u001b[0m\u001b[1;33m.\u001b[0m\u001b[0miphone\u001b[0m\u001b[1;33m)\u001b[0m\u001b[1;33m\u001b[0m\u001b[1;33m\u001b[0m\u001b[0m\n\u001b[1;32m---> 15\u001b[1;33m         \u001b[0mprint\u001b[0m\u001b[1;33m(\u001b[0m\u001b[1;34m\"price of xiaomi\"\u001b[0m\u001b[1;33m,\u001b[0m\u001b[0mself\u001b[0m\u001b[1;33m.\u001b[0m\u001b[0mxiaomi\u001b[0m\u001b[1;33m)\u001b[0m\u001b[1;33m\u001b[0m\u001b[1;33m\u001b[0m\u001b[0m\n\u001b[0m\u001b[0;32m     16\u001b[0m         \u001b[0mprint\u001b[0m\u001b[1;33m(\u001b[0m\u001b[1;34m\"price of oppo\"\u001b[0m\u001b[1;33m,\u001b[0m\u001b[0mself\u001b[0m\u001b[1;33m.\u001b[0m\u001b[0moppo\u001b[0m\u001b[1;33m)\u001b[0m\u001b[1;33m\u001b[0m\u001b[1;33m\u001b[0m\u001b[0m\n\u001b[0;32m     17\u001b[0m         \u001b[0mprint\u001b[0m\u001b[1;33m(\u001b[0m\u001b[1;34m\"price of vivo\"\u001b[0m\u001b[1;33m,\u001b[0m\u001b[0mself\u001b[0m\u001b[1;33m.\u001b[0m\u001b[0mvivo\u001b[0m\u001b[1;33m)\u001b[0m\u001b[1;33m\u001b[0m\u001b[1;33m\u001b[0m\u001b[0m\n",
      "\u001b[1;31mAttributeError\u001b[0m: 'phone' object has no attribute 'xiaomi'"
     ]
    }
   ],
   "source": [
    "p1.show_phone_details()"
   ]
  },
  {
   "cell_type": "code",
   "execution_count": null,
   "id": "3e73a03a",
   "metadata": {},
   "outputs": [],
   "source": [
    "\n"
   ]
  }
 ],
 "metadata": {
  "kernelspec": {
   "display_name": "Python 3",
   "language": "python",
   "name": "python3"
  },
  "language_info": {
   "codemirror_mode": {
    "name": "ipython",
    "version": 3
   },
   "file_extension": ".py",
   "mimetype": "text/x-python",
   "name": "python",
   "nbconvert_exporter": "python",
   "pygments_lexer": "ipython3",
   "version": "3.8.8"
  }
 },
 "nbformat": 4,
 "nbformat_minor": 5
}
